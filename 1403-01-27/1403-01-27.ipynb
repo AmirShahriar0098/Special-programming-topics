{
 "cells": [
  {
   "cell_type": "code",
   "execution_count": 1,
   "id": "760d9487-4a63-4dc4-957f-297bef687750",
   "metadata": {},
   "outputs": [],
   "source": [
    "age = 10"
   ]
  },
  {
   "cell_type": "code",
   "execution_count": 6,
   "id": "fda85951-8675-4adb-bf3f-472f4481575a",
   "metadata": {},
   "outputs": [
    {
     "name": "stdout",
     "output_type": "stream",
     "text": [
      "خردسال\n"
     ]
    }
   ],
   "source": [
    "if (age <= 10):\n",
    "    print(\"خردسال\")\n",
    "elif (age > 10 and age <= 18):\n",
    "    print(\"نوجوان\")\n",
    "else:\n",
    "    print(\"بزرگسال\")"
   ]
  },
  {
   "cell_type": "code",
   "execution_count": 7,
   "id": "c38ee34d-b2ce-4cc9-b1d8-a7e00772f552",
   "metadata": {},
   "outputs": [],
   "source": [
    "def average(avg):\n",
    "    if (avg < 10):\n",
    "        print(\"افتاده\")\n",
    "    elif (avg >= 10 and avg <= 15):\n",
    "        print(\"متوسط\")\n",
    "    else:\n",
    "        print(\"خوب\")"
   ]
  },
  {
   "cell_type": "code",
   "execution_count": 11,
   "id": "d94f89d9-eb39-443c-9365-60c1fd3013d3",
   "metadata": {},
   "outputs": [
    {
     "name": "stdout",
     "output_type": "stream",
     "text": [
      "خوب\n"
     ]
    }
   ],
   "source": [
    "avg = 16\n",
    "average(avg)"
   ]
  },
  {
   "cell_type": "code",
   "execution_count": 12,
   "id": "c4be0bf8-c005-46fd-8fa3-a90ca48ff4ea",
   "metadata": {},
   "outputs": [
    {
     "name": "stdout",
     "output_type": "stream",
     "text": [
      "The factorial of 5 is 120\n"
     ]
    }
   ],
   "source": [
    "def factorial(n):\n",
    "    if n == 0:\n",
    "        return 1\n",
    "    else:\n",
    "        return n * factorial(n-1)\n",
    "\n",
    "# change the value for a different result\n",
    "num = 5\n",
    "\n",
    "# call the factorial function\n",
    "result = factorial(num)\n",
    "print(\"The factorial of\", num, \"is\", result)"
   ]
  },
  {
   "cell_type": "code",
   "execution_count": null,
   "id": "a97902aa-6aaa-4c09-8e16-0d350f377937",
   "metadata": {},
   "outputs": [],
   "source": []
  }
 ],
 "metadata": {
  "kernelspec": {
   "display_name": "Python 3 (ipykernel)",
   "language": "python",
   "name": "python3"
  },
  "language_info": {
   "codemirror_mode": {
    "name": "ipython",
    "version": 3
   },
   "file_extension": ".py",
   "mimetype": "text/x-python",
   "name": "python",
   "nbconvert_exporter": "python",
   "pygments_lexer": "ipython3",
   "version": "3.12.2"
  }
 },
 "nbformat": 4,
 "nbformat_minor": 5
}
