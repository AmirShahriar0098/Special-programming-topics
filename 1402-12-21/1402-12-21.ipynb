{
 "cells": [
  {
   "cell_type": "code",
   "execution_count": null,
   "id": "41dd8160-968b-4b39-a670-c02b93cdc675",
   "metadata": {},
   "outputs": [],
   "source": [
    "#Excercise '1' => calculate this expertion : "
   ]
  },
  {
   "cell_type": "code",
   "execution_count": 1,
   "id": "ce03edec-192f-45ab-a17d-5b7794bfce35",
   "metadata": {},
   "outputs": [
    {
     "name": "stdout",
     "output_type": "stream",
     "text": [
      "1+2*7/2-(8/2)**3 :  -56.0\n"
     ]
    }
   ],
   "source": [
    "print(\"1+2*7/2-(8/2)**3 : \" , 1+2*7/2-(8/2)**3);"
   ]
  },
  {
   "cell_type": "code",
   "execution_count": null,
   "id": "e5fc99ea-2ba5-4d7b-afcb-83c2cea54569",
   "metadata": {},
   "outputs": [],
   "source": [
    "#Excercise '2' => concatination : "
   ]
  },
  {
   "cell_type": "code",
   "execution_count": 2,
   "id": "be5d0142-4ee1-4fda-b4bf-7ea9f268ea05",
   "metadata": {},
   "outputs": [
    {
     "ename": "TypeError",
     "evalue": "can only concatenate str (not \"int\") to str",
     "output_type": "error",
     "traceback": [
      "\u001b[1;31m---------------------------------------------------------------------------\u001b[0m",
      "\u001b[1;31mTypeError\u001b[0m                                 Traceback (most recent call last)",
      "Cell \u001b[1;32mIn[2], line 1\u001b[0m\n\u001b[1;32m----> 1\u001b[0m \u001b[38;5;28mprint\u001b[39m(\u001b[38;5;124;43m\"\u001b[39;49m\u001b[38;5;124;43m24\u001b[39;49m\u001b[38;5;124;43m\"\u001b[39;49m\u001b[43m \u001b[49m\u001b[38;5;241;43m+\u001b[39;49m\u001b[43m \u001b[49m\u001b[38;5;241;43m2\u001b[39;49m);\n",
      "\u001b[1;31mTypeError\u001b[0m: can only concatenate str (not \"int\") to str"
     ]
    }
   ],
   "source": [
    "print(\"24\" + 2);"
   ]
  },
  {
   "cell_type": "code",
   "execution_count": null,
   "id": "89bf45ec-a009-4659-9e7c-05f58713c93a",
   "metadata": {},
   "outputs": [],
   "source": [
    "#Excercise '3' => import and use math library : "
   ]
  },
  {
   "cell_type": "code",
   "execution_count": 3,
   "id": "6314e7ba-0245-4cb3-b8b6-127d73c9eab9",
   "metadata": {},
   "outputs": [
    {
     "name": "stdout",
     "output_type": "stream",
     "text": [
      "gazr :  8.0\n",
      "/gazr :  8.94427190999916\n",
      "/tan :  -0.42070095062112434\n",
      "/sin :  -0.3048106211022167\n"
     ]
    }
   ],
   "source": [
    "import math;\n",
    "\n",
    "print(\"gazr : \" , math.sqrt(64));\n",
    "print(\"/gazr : \" , math.sqrt(80));\n",
    "print(\"/tan : \" , math.tan(75));\n",
    "print(\"/sin : \" , math.sin(60));"
   ]
  },
  {
   "cell_type": "markdown",
   "id": "4fa61539-9542-4301-9dd4-f09586fb6aaf",
   "metadata": {},
   "source": [
    "#Excercise '4' => Different between 'print' & 'return' in function : \n",
    "از لحاظ کارکرد باید دانست که دستور print تنها جهت نمایش یک string به کاربر استفاده می شود. از این رو معمولا آن چه را که برای انسان قابل فهم است توسط این دستور نمایش می دهیم. در نتیجه واضح است که کامپیوتر با بهتر است در این جا بگوییم کامپایلر ، نمی تواند از خروجی print در جایی استفاده نماید.\r\n",
    "\r\n",
    "در مقابل دستور return ، یک خروجی قابل فهم توسط کامپیوتر را نمایش خواهد داد ( برمی گرداند ) این خروجی معمولا توسط Function ها ایجاد شده است. همچنین مقدار نمایش داده شده یا بازگردانده شده توسط دستور return اغلب از چشم کاربر دو خواهد ماند. اما از طرف دیگر در آینده توسط کامپیوتر و کامپایلر قابل استفاده است.\r\n",
    "\r\n",
    "اما همین مسائل را می توانیم از زاویه دیگر نیز بازگو کنیم. دستور print و مقدار بازگشتی آن هیچ تاثیری بر روی Function ها در یک قطعه کد Python نمی گذارد. کاربرد print فقط در جهت به وجود آوردن مزایا برای کاربر و افزایش سازگاری با استاندارد های User Friendly نرم افزار استفاده می شود. البته این کاربر همیشه کاربر نهایی نیست. گاهی با استفاده از print مقادیری را نمایش خواهیم داد که برای آسان تر شدن فهم سایر اعضای تیم که بر روی همان قطعه کد کار می کنند مناسب خواهد بود و راهنمای آن ها است. دستور پرینت هیچ وقفه ای در کار نرم افزار ایجاد نمی کند.\r\n",
    "\r\n",
    "دستور return اصلی ترین راه برای برگرداندن یک value در یک تابع یا Function است. تمام Function ها یک مقدار را برمی گرداند و اگر هیچ مقداری در تابع تعریف نشده باشد ، باز هم مقدار None برگردانده می شود."
   ]
  },
  {
   "cell_type": "code",
   "execution_count": null,
   "id": "1d44659d-a3e5-4895-9ae7-8c75b989dc85",
   "metadata": {},
   "outputs": [],
   "source": []
  }
 ],
 "metadata": {
  "kernelspec": {
   "display_name": "Python 3 (ipykernel)",
   "language": "python",
   "name": "python3"
  },
  "language_info": {
   "codemirror_mode": {
    "name": "ipython",
    "version": 3
   },
   "file_extension": ".py",
   "mimetype": "text/x-python",
   "name": "python",
   "nbconvert_exporter": "python",
   "pygments_lexer": "ipython3",
   "version": "3.12.2"
  }
 },
 "nbformat": 4,
 "nbformat_minor": 5
}
