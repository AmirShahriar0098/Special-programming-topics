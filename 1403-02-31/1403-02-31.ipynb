{
 "cells": [
  {
   "cell_type": "code",
   "execution_count": 14,
   "id": "e99f6758-b983-4627-a35d-95968b029cba",
   "metadata": {},
   "outputs": [],
   "source": [
    "test = ['Amir', 'Shahriar', 20]"
   ]
  },
  {
   "cell_type": "code",
   "execution_count": 15,
   "id": "fff86e87-4249-4130-a17b-3ee52f782b64",
   "metadata": {},
   "outputs": [],
   "source": [
    "test1 = ['Ali', 'Mirzadi', 24]"
   ]
  },
  {
   "cell_type": "code",
   "execution_count": 16,
   "id": "a482c630-5de7-4923-aef5-b65a6d359ac3",
   "metadata": {},
   "outputs": [
    {
     "name": "stdout",
     "output_type": "stream",
     "text": [
      "['Amir', 'Shahriar', 20, 'Ali', 'Mirzadi', 24]\n"
     ]
    }
   ],
   "source": [
    "test.extend(test1)\n",
    "print(test)"
   ]
  },
  {
   "cell_type": "code",
   "execution_count": 17,
   "id": "d1a63d92-3927-4640-8f70-1a63b35eb345",
   "metadata": {},
   "outputs": [
    {
     "name": "stdout",
     "output_type": "stream",
     "text": [
      "[1, 2, 3, 4]\n"
     ]
    }
   ],
   "source": [
    "print([1, 2, 3] + [4])"
   ]
  },
  {
   "cell_type": "code",
   "execution_count": 18,
   "id": "f9e23f1b-18af-46c7-9158-5cbbd82ef50b",
   "metadata": {},
   "outputs": [
    {
     "name": "stdout",
     "output_type": "stream",
     "text": [
      "['Amir', 'Shahriar', 20, 'Mirzadi', 24]\n"
     ]
    }
   ],
   "source": [
    "test.remove('Ali')\n",
    "print(test)"
   ]
  },
  {
   "cell_type": "code",
   "execution_count": 30,
   "id": "ac27da02-36a8-44c7-8b01-df61d3d8e529",
   "metadata": {},
   "outputs": [],
   "source": [
    "slic = [1, 2, 3, 4, 5, 6, 7, 8, 9, 10]"
   ]
  },
  {
   "cell_type": "code",
   "execution_count": 33,
   "id": "e6f722b7-6074-47ae-a355-fa2bf0be3734",
   "metadata": {},
   "outputs": [
    {
     "data": {
      "text/plain": [
       "[7, 8, 9]"
      ]
     },
     "execution_count": 33,
     "metadata": {},
     "output_type": "execute_result"
    }
   ],
   "source": [
    "slic[-4:-1]"
   ]
  },
  {
   "cell_type": "code",
   "execution_count": 34,
   "id": "7aa428e2-628e-4f7d-9819-07c1770a84b4",
   "metadata": {},
   "outputs": [
    {
     "data": {
      "text/plain": [
       "[1, 2, 3]"
      ]
     },
     "execution_count": 34,
     "metadata": {},
     "output_type": "execute_result"
    }
   ],
   "source": [
    "slic[0:3]"
   ]
  },
  {
   "cell_type": "code",
   "execution_count": 35,
   "id": "3a62f0e2-7f0f-4700-9c5f-cae2608806d9",
   "metadata": {},
   "outputs": [
    {
     "data": {
      "text/plain": [
       "[1, 3, 5, 7, 9]"
      ]
     },
     "execution_count": 35,
     "metadata": {},
     "output_type": "execute_result"
    }
   ],
   "source": [
    "slic[0:9:2]"
   ]
  },
  {
   "cell_type": "code",
   "execution_count": null,
   "id": "eab843e3-f479-48a5-8a04-05f5d932ac3c",
   "metadata": {},
   "outputs": [],
   "source": []
  }
 ],
 "metadata": {
  "kernelspec": {
   "display_name": "Python 3 (ipykernel)",
   "language": "python",
   "name": "python3"
  },
  "language_info": {
   "codemirror_mode": {
    "name": "ipython",
    "version": 3
   },
   "file_extension": ".py",
   "mimetype": "text/x-python",
   "name": "python",
   "nbconvert_exporter": "python",
   "pygments_lexer": "ipython3",
   "version": "3.12.2"
  }
 },
 "nbformat": 4,
 "nbformat_minor": 5
}
