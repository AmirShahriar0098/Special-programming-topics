{
 "cells": [
  {
   "cell_type": "code",
   "execution_count": 11,
   "id": "4beb3b3d-5a17-4f7d-ab70-cccb9cb93187",
   "metadata": {},
   "outputs": [],
   "source": [
    "import math"
   ]
  },
  {
   "cell_type": "markdown",
   "id": "7ed1f3ed-5fb1-47ab-8f3c-b689938fd272",
   "metadata": {
    "jp-MarkdownHeadingCollapsed": true
   },
   "source": [
    "# sigmoid"
   ]
  },
  {
   "cell_type": "code",
   "execution_count": 12,
   "id": "ef220946-ad77-475e-b786-b7c092f30fab",
   "metadata": {},
   "outputs": [],
   "source": [
    "def sigmoid(z):\n",
    "    return 1 / (1 + math.exp(-z))\n",
    "    "
   ]
  },
  {
   "cell_type": "code",
   "execution_count": 13,
   "id": "2dae35f2-6549-410b-b1f9-cb3a244980e6",
   "metadata": {},
   "outputs": [
    {
     "data": {
      "text/plain": [
       "0.9933071490757153"
      ]
     },
     "execution_count": 13,
     "metadata": {},
     "output_type": "execute_result"
    }
   ],
   "source": [
    "sigmoid(5)"
   ]
  },
  {
   "cell_type": "markdown",
   "id": "94165ce9-e17b-4b04-9314-1496666902eb",
   "metadata": {
    "jp-MarkdownHeadingCollapsed": true
   },
   "source": [
    "# tanh"
   ]
  },
  {
   "cell_type": "code",
   "execution_count": 14,
   "id": "65140008-1015-4a55-ac4f-9776534dab87",
   "metadata": {},
   "outputs": [],
   "source": [
    "def tanh(z):\n",
    "    return (math.exp(-z) - math.exp(z)) / (math.exp(-z) + math.exp(z))"
   ]
  },
  {
   "cell_type": "code",
   "execution_count": 15,
   "id": "b278e12e-9314-45c1-910e-e1cee5e7d192",
   "metadata": {},
   "outputs": [
    {
     "data": {
      "text/plain": [
       "-1.0"
      ]
     },
     "execution_count": 15,
     "metadata": {},
     "output_type": "execute_result"
    }
   ],
   "source": [
    "tanh(50)"
   ]
  },
  {
   "cell_type": "markdown",
   "id": "543b676b-1f19-40b0-8917-2d8ec10db8bd",
   "metadata": {
    "jp-MarkdownHeadingCollapsed": true
   },
   "source": [
    "# p"
   ]
  },
  {
   "cell_type": "code",
   "execution_count": 24,
   "id": "23b62d61-f680-4701-9574-230b2c8c830f",
   "metadata": {},
   "outputs": [],
   "source": [
    "def sPart(x, y):\n",
    "    result = math.sqrt(x ** 2 + y ** 2)\n",
    "    return result"
   ]
  },
  {
   "cell_type": "code",
   "execution_count": 25,
   "id": "f10491d0-41a3-450b-a7bd-1bf6e393dd2c",
   "metadata": {},
   "outputs": [],
   "source": [
    "def pPart(x, y, z):\n",
    "    s = sPart(x, y)\n",
    "    \n",
    "    if (s < 0):\n",
    "        s = -(s)\n",
    "    else:\n",
    "        s = s\n",
    "    return s * math.cos(z)"
   ]
  },
  {
   "cell_type": "code",
   "execution_count": 28,
   "id": "c1d12834-0fc2-4e9b-b5d4-2a071ac0802e",
   "metadata": {},
   "outputs": [
    {
     "data": {
      "text/plain": [
       "8.663832189420157"
      ]
     },
     "execution_count": 28,
     "metadata": {},
     "output_type": "execute_result"
    }
   ],
   "source": [
    "pPart(16, 4, 45)"
   ]
  },
  {
   "cell_type": "markdown",
   "id": "dde59d0a-3c7d-479f-8b5a-55f7850f65cf",
   "metadata": {
    "jp-MarkdownHeadingCollapsed": true
   },
   "source": [
    "# n"
   ]
  },
  {
   "cell_type": "code",
   "execution_count": 29,
   "id": "5326f33c-f38c-48c5-8d74-8d0bafa722f5",
   "metadata": {},
   "outputs": [],
   "source": [
    "def nPart(s, m, x):\n",
    "    #Before math.exp\n",
    "    a = s * math.sqrt(2 * math.pi)\n",
    "    t = 1 / a\n",
    "    \n",
    "    #Math.exp\n",
    "    o = (x - m) ** 2\n",
    "    k = 2 * (s ** 2)\n",
    "\n",
    "    c = -(o / k)\n",
    "    r = math.exp(c)\n",
    "    \n",
    "    #After Math.exp\n",
    "    all = t * r\n",
    "    return all"
   ]
  },
  {
   "cell_type": "code",
   "execution_count": 30,
   "id": "3d1faeda-8c41-47d7-8ce1-1303243cbcc9",
   "metadata": {},
   "outputs": [
    {
     "data": {
      "text/plain": [
       "0.04839414490382868"
      ]
     },
     "execution_count": 30,
     "metadata": {},
     "output_type": "execute_result"
    }
   ],
   "source": [
    "nPart(5, 10, 15)"
   ]
  },
  {
   "cell_type": "markdown",
   "id": "3a4325b8-501f-4a5f-abf8-77aedb947cea",
   "metadata": {
    "jp-MarkdownHeadingCollapsed": true
   },
   "source": [
    "# fibonacci"
   ]
  },
  {
   "cell_type": "code",
   "execution_count": 92,
   "id": "f44bd073-0137-4e61-bd3d-8ce0b017f28d",
   "metadata": {},
   "outputs": [],
   "source": [
    "def Fibonacci(x):\n",
    "    if x <= 0:\n",
    "        print(\"Incorrect input\")\n",
    "    elif x == 1:\n",
    "        return 0\n",
    "    elif x == 2:\n",
    "        return 1\n",
    "    else:\n",
    "        return Fibonacci(x-1) + Fibonacci(x-2)"
   ]
  },
  {
   "cell_type": "code",
   "execution_count": 93,
   "id": "e0571503-25ff-4c99-95a9-b2350ebbef84",
   "metadata": {},
   "outputs": [
    {
     "data": {
      "text/plain": [
       "13"
      ]
     },
     "execution_count": 93,
     "metadata": {},
     "output_type": "execute_result"
    }
   ],
   "source": [
    "Fibonacci(8)"
   ]
  },
  {
   "cell_type": "markdown",
   "id": "a15e42b9-2b60-4aeb-b5b6-33b9f7ab5272",
   "metadata": {
    "jp-MarkdownHeadingCollapsed": true
   },
   "source": [
    "# D1"
   ]
  },
  {
   "cell_type": "code",
   "execution_count": 70,
   "id": "70f4ae03-5f3a-4e24-afd8-ae21bd61cfc6",
   "metadata": {},
   "outputs": [],
   "source": [
    "def D1Part(x1, x2, y1, y2):\n",
    "    return math.sqrt(((x2 - x1) ** 2) + ((y2 - y1) ** 2))"
   ]
  },
  {
   "cell_type": "code",
   "execution_count": 71,
   "id": "2a882a81-5352-4541-9d10-1f44c22f9c1a",
   "metadata": {},
   "outputs": [
    {
     "data": {
      "text/plain": [
       "2.23606797749979"
      ]
     },
     "execution_count": 71,
     "metadata": {},
     "output_type": "execute_result"
    }
   ],
   "source": [
    "D1Part(4, 5, 8, 6)"
   ]
  },
  {
   "cell_type": "markdown",
   "id": "913035e4-cfdf-4d84-b277-321f83a2cc57",
   "metadata": {
    "jp-MarkdownHeadingCollapsed": true
   },
   "source": [
    "# Y"
   ]
  },
  {
   "cell_type": "code",
   "execution_count": 76,
   "id": "330ce62a-9159-4560-bc17-c95fcbb0b70d",
   "metadata": {},
   "outputs": [],
   "source": [
    "def Ypart(x ,y):\n",
    "    return (x + y / x) / 2 "
   ]
  },
  {
   "cell_type": "code",
   "execution_count": 77,
   "id": "61ae8e7b-f716-4dd4-927a-b94131fa224b",
   "metadata": {},
   "outputs": [
    {
     "data": {
      "text/plain": [
       "5.25"
      ]
     },
     "execution_count": 77,
     "metadata": {},
     "output_type": "execute_result"
    }
   ],
   "source": [
    "Ypart(10, 5)"
   ]
  },
  {
   "cell_type": "markdown",
   "id": "f426578f-a447-4f54-adcd-0e72a0c9e713",
   "metadata": {
    "jp-MarkdownHeadingCollapsed": true
   },
   "source": [
    "# Ghadr Motlagh"
   ]
  },
  {
   "cell_type": "code",
   "execution_count": 80,
   "id": "dce5b2be-1db9-4da2-a898-bf0417f6f2a0",
   "metadata": {},
   "outputs": [],
   "source": [
    "def GadrMotlagh(z):\n",
    "    if (z >= 0):\n",
    "        return z\n",
    "    else:\n",
    "        return -z"
   ]
  },
  {
   "cell_type": "code",
   "execution_count": 83,
   "id": "bce35374-3778-4817-be44-f5903228bf20",
   "metadata": {},
   "outputs": [
    {
     "data": {
      "text/plain": [
       "5"
      ]
     },
     "execution_count": 83,
     "metadata": {},
     "output_type": "execute_result"
    }
   ],
   "source": [
    "GadrMotlagh(5)"
   ]
  },
  {
   "cell_type": "markdown",
   "id": "1590e0e9-148b-4a1b-a1ba-20ffb9a79e18",
   "metadata": {
    "jp-MarkdownHeadingCollapsed": true
   },
   "source": [
    "# D2"
   ]
  },
  {
   "cell_type": "code",
   "execution_count": 86,
   "id": "35e7c6a1-102d-4cd6-8be4-d7bf9afb63d6",
   "metadata": {},
   "outputs": [],
   "source": [
    "def D2Part(x1, x2, y1, y2):\n",
    "    z = (x1 - x2) + (y1 - y2)\n",
    "    \n",
    "    return GadrMotlagh(z)"
   ]
  },
  {
   "cell_type": "code",
   "execution_count": 87,
   "id": "1d0281d6-71e5-46a0-a9d2-8763e4c86acf",
   "metadata": {},
   "outputs": [
    {
     "data": {
      "text/plain": [
       "4"
      ]
     },
     "execution_count": 87,
     "metadata": {},
     "output_type": "execute_result"
    }
   ],
   "source": [
    "D2Part(10, 12, 14, 16)"
   ]
  },
  {
   "cell_type": "markdown",
   "id": "e336ce38-de2f-46c7-b31b-02af49d8f254",
   "metadata": {
    "jp-MarkdownHeadingCollapsed": true
   },
   "source": [
    "# L"
   ]
  },
  {
   "cell_type": "code",
   "execution_count": 94,
   "id": "e784a433-7370-40ae-9e02-5e202ef533a0",
   "metadata": {},
   "outputs": [],
   "source": [
    "def lPart(h1, h2, m, x, y):\n",
    "    a = (((h1 * x) + y) + ((h2 * x) + y))\n",
    "    return 1 / m * a"
   ]
  },
  {
   "cell_type": "code",
   "execution_count": 95,
   "id": "90ac631d-827c-408d-b788-e37b56a8b2df",
   "metadata": {},
   "outputs": [
    {
     "data": {
      "text/plain": [
       "4.25"
      ]
     },
     "execution_count": 95,
     "metadata": {},
     "output_type": "execute_result"
    }
   ],
   "source": [
    "lPart(4, 6, 8, 3, 2)"
   ]
  },
  {
   "cell_type": "markdown",
   "id": "5cdcc937-e329-4331-96c2-64590f1d96cf",
   "metadata": {
    "jp-MarkdownHeadingCollapsed": true
   },
   "source": [
    "# L1"
   ]
  },
  {
   "cell_type": "code",
   "execution_count": 99,
   "id": "70fcde9b-0c71-4c2e-b7c8-50860c5c1edf",
   "metadata": {},
   "outputs": [],
   "source": [
    "def L1Part(h, x, y, m):\n",
    "    a = ((h * x) - y) * x\n",
    "    return 1 / m * a"
   ]
  },
  {
   "cell_type": "code",
   "execution_count": 100,
   "id": "7143e959-799a-457a-bcca-1269cf549397",
   "metadata": {},
   "outputs": [
    {
     "data": {
      "text/plain": [
       "19.444444444444443"
      ]
     },
     "execution_count": 100,
     "metadata": {},
     "output_type": "execute_result"
    }
   ],
   "source": [
    "L1Part(4, 7, 3, 9)"
   ]
  },
  {
   "cell_type": "markdown",
   "id": "f5cbe8fe-d3aa-4211-894f-0f444762f761",
   "metadata": {
    "jp-MarkdownHeadingCollapsed": true
   },
   "source": [
    "# Factorial"
   ]
  },
  {
   "cell_type": "code",
   "execution_count": 108,
   "id": "bd93a19e-67ff-4fc3-a4ed-4cfecc566c9a",
   "metadata": {},
   "outputs": [],
   "source": [
    "def Factoril(x):\n",
    "    if (x <= 1):\n",
    "        return x\n",
    "    return x * Factoril(x - 1)"
   ]
  },
  {
   "cell_type": "code",
   "execution_count": 109,
   "id": "0424149c-77c6-44a7-90b0-f779d865fa63",
   "metadata": {},
   "outputs": [
    {
     "data": {
      "text/plain": [
       "6"
      ]
     },
     "execution_count": 109,
     "metadata": {},
     "output_type": "execute_result"
    }
   ],
   "source": [
    "Factoril(3)"
   ]
  },
  {
   "cell_type": "markdown",
   "id": "3170ef07-1d0c-4d8c-bb41-1ef1b530d830",
   "metadata": {
    "jp-MarkdownHeadingCollapsed": true
   },
   "source": [
    "# D"
   ]
  },
  {
   "cell_type": "code",
   "execution_count": 119,
   "id": "8e19e8ab-5dda-4c84-9c5e-d8a4d631d7a2",
   "metadata": {},
   "outputs": [],
   "source": [
    "def dPart1(h, t):\n",
    "    return -(h / t * math.log(h / t))"
   ]
  },
  {
   "cell_type": "code",
   "execution_count": 120,
   "id": "3d8f0cde-e907-43f3-aa11-71a57108802a",
   "metadata": {},
   "outputs": [],
   "source": [
    "def dPart2(h, t):\n",
    "    return h / t * dPart1(h, t)"
   ]
  },
  {
   "cell_type": "code",
   "execution_count": 121,
   "id": "481ffd1c-38a5-41d4-b50c-37c2ac3e570c",
   "metadata": {},
   "outputs": [
    {
     "data": {
      "text/plain": [
       "-1.9044287942828657"
      ]
     },
     "execution_count": 121,
     "metadata": {},
     "output_type": "execute_result"
    }
   ],
   "source": [
    "dPart2(9, 5)"
   ]
  },
  {
   "cell_type": "markdown",
   "id": "d60f31a3-6605-48e8-a9be-896970b60c35",
   "metadata": {
    "jp-MarkdownHeadingCollapsed": true
   },
   "source": [
    "# Inclode Y, Z, X1"
   ]
  },
  {
   "cell_type": "markdown",
   "id": "dd94208b-3c44-4bc4-a61c-e73ac88ea789",
   "metadata": {
    "jp-MarkdownHeadingCollapsed": true
   },
   "source": [
    "## Second Y"
   ]
  },
  {
   "cell_type": "code",
   "execution_count": 128,
   "id": "45fc56e6-9c0d-4a43-9243-c8b485bc5964",
   "metadata": {},
   "outputs": [],
   "source": [
    "def SecondY(w, x, b):\n",
    "    return w * x + b"
   ]
  },
  {
   "cell_type": "code",
   "execution_count": 129,
   "id": "0a22971a-272f-432e-87b2-cab18236f4f0",
   "metadata": {},
   "outputs": [
    {
     "data": {
      "text/plain": [
       "32"
      ]
     },
     "execution_count": 129,
     "metadata": {},
     "output_type": "execute_result"
    }
   ],
   "source": [
    "SecondY(5, 6, 2)"
   ]
  },
  {
   "cell_type": "markdown",
   "id": "554d678f-a207-4426-b676-565b44058e27",
   "metadata": {
    "jp-MarkdownHeadingCollapsed": true
   },
   "source": [
    "## Z"
   ]
  },
  {
   "cell_type": "code",
   "execution_count": 130,
   "id": "d8270971-3888-47f8-9d6f-c7981552fc87",
   "metadata": {},
   "outputs": [],
   "source": [
    "def zPart(w, x, b):\n",
    "    d = SecondY(w, x, b)\n",
    "    return 1/ (1 + math.exp(-d))"
   ]
  },
  {
   "cell_type": "code",
   "execution_count": 131,
   "id": "404af8b1-1baf-467e-acc6-192c24eb34cb",
   "metadata": {},
   "outputs": [
    {
     "data": {
      "text/plain": [
       "0.9999546021312976"
      ]
     },
     "execution_count": 131,
     "metadata": {},
     "output_type": "execute_result"
    }
   ],
   "source": [
    "zPart(2, 3, 4)"
   ]
  },
  {
   "cell_type": "markdown",
   "id": "bdec391a-8e8a-4523-9354-9302c3b6f2c1",
   "metadata": {
    "jp-MarkdownHeadingCollapsed": true
   },
   "source": [
    "# X1"
   ]
  },
  {
   "cell_type": "code",
   "execution_count": 136,
   "id": "c84155d6-627f-4d08-83d5-0ec2d5540884",
   "metadata": {},
   "outputs": [],
   "source": [
    "def X1Part(x0, a, w, x, b):\n",
    "    return x0 + a * zPart(w, x, b)"
   ]
  },
  {
   "cell_type": "code",
   "execution_count": 137,
   "id": "d1240197-45d3-48ee-bd32-0bf26db04f6f",
   "metadata": {},
   "outputs": [
    {
     "data": {
      "text/plain": [
       "4.999999999984673"
      ]
     },
     "execution_count": 137,
     "metadata": {},
     "output_type": "execute_result"
    }
   ],
   "source": [
    "X1Part(2, 3, 4, 5, 6)"
   ]
  },
  {
   "cell_type": "markdown",
   "id": "99441226-ada3-46a4-b5d9-92317dd994bf",
   "metadata": {
    "jp-MarkdownHeadingCollapsed": true
   },
   "source": [
    "# T"
   ]
  },
  {
   "cell_type": "code",
   "execution_count": 139,
   "id": "ef447003-3084-4be3-8d8e-17ac5ab31738",
   "metadata": {},
   "outputs": [],
   "source": [
    "def tPart(b, v, c):\n",
    "    return b * math.sqrt(1 - (v ** 2 / c ** 2))"
   ]
  },
  {
   "cell_type": "code",
   "execution_count": 140,
   "id": "a79743d8-fc32-40b5-8a02-4d9ea82cd811",
   "metadata": {},
   "outputs": [
    {
     "data": {
      "text/plain": [
       "2.5753937681885635"
      ]
     },
     "execution_count": 140,
     "metadata": {},
     "output_type": "execute_result"
    }
   ],
   "source": [
    "tPart(5, 6, 7)"
   ]
  },
  {
   "cell_type": "markdown",
   "id": "7fdc0efb-c6be-456f-8a79-84d327869435",
   "metadata": {
    "jp-MarkdownHeadingCollapsed": true
   },
   "source": [
    "# Print number 1 to 5 with \"While\""
   ]
  },
  {
   "cell_type": "code",
   "execution_count": 141,
   "id": "0bd3441f-09f8-4f72-97d0-ad838df0f02b",
   "metadata": {},
   "outputs": [
    {
     "name": "stdout",
     "output_type": "stream",
     "text": [
      "1\n",
      "2\n",
      "3\n",
      "4\n",
      "5\n"
     ]
    }
   ],
   "source": [
    "i = 1\n",
    "while i <= 5:\n",
    "    print(i)\n",
    "    i += 1"
   ]
  },
  {
   "cell_type": "markdown",
   "id": "cd5263b8-744c-49af-9356-78994f4851f8",
   "metadata": {
    "jp-MarkdownHeadingCollapsed": true
   },
   "source": [
    "# If input 0 Increase it to 10"
   ]
  },
  {
   "cell_type": "code",
   "execution_count": 143,
   "id": "1a1afb23-df98-4649-b48e-23b2340efae1",
   "metadata": {},
   "outputs": [],
   "source": [
    "def CheckZero(n):\n",
    "    if (n == 0):\n",
    "        while (n < 10):\n",
    "            n += 1\n",
    "    return n"
   ]
  },
  {
   "cell_type": "code",
   "execution_count": 145,
   "id": "14f0851f-2849-41cb-84e4-b9acc294bee6",
   "metadata": {},
   "outputs": [
    {
     "data": {
      "text/plain": [
       "10"
      ]
     },
     "execution_count": 145,
     "metadata": {},
     "output_type": "execute_result"
    }
   ],
   "source": [
    "CheckZero(0)"
   ]
  },
  {
   "cell_type": "markdown",
   "id": "77b0c3c2-d7ff-4c5a-894e-430ed351c8fb",
   "metadata": {
    "jp-MarkdownHeadingCollapsed": true
   },
   "source": [
    "# Count Number of Iteration a char in a string"
   ]
  },
  {
   "cell_type": "code",
   "execution_count": 154,
   "id": "9c10efb3-0cb9-4c7f-ad21-16e17fbbf181",
   "metadata": {},
   "outputs": [],
   "source": [
    "def count(a, b):\n",
    "    i, x = 0, 0\n",
    "    while (i < len(a)):\n",
    "        if (a[i] == b):\n",
    "            x += 1\n",
    "        i += 1\n",
    "    return x"
   ]
  },
  {
   "cell_type": "code",
   "execution_count": 156,
   "id": "c2ed2b09-3733-4c2c-8f7d-27c97f63f621",
   "metadata": {},
   "outputs": [
    {
     "data": {
      "text/plain": [
       "0"
      ]
     },
     "execution_count": 156,
     "metadata": {},
     "output_type": "execute_result"
    }
   ],
   "source": [
    "count(\"Amir\", \"b\")"
   ]
  },
  {
   "cell_type": "markdown",
   "id": "3901b8fc-a1ad-426a-8007-fc557fa3f114",
   "metadata": {
    "jp-MarkdownHeadingCollapsed": true
   },
   "source": [
    "# Check for ISexist a char in a string"
   ]
  },
  {
   "cell_type": "code",
   "execution_count": 166,
   "id": "ebdeb013-2dbe-437f-a5fe-1cfbdef888ca",
   "metadata": {},
   "outputs": [],
   "source": [
    "def find(a, b):\n",
    "    i = 0\n",
    "    while(i < len(a)):\n",
    "        if (a[i] == b):\n",
    "            print(f\"{b} in index : \")\n",
    "            return i\n",
    "        i += 1\n",
    "    print(\"Not exist\")"
   ]
  },
  {
   "cell_type": "code",
   "execution_count": 167,
   "id": "57ef760c-2d82-46df-a12b-1cd472bb4ce7",
   "metadata": {},
   "outputs": [
    {
     "name": "stdout",
     "output_type": "stream",
     "text": [
      "r in index : \n"
     ]
    },
    {
     "data": {
      "text/plain": [
       "3"
      ]
     },
     "execution_count": 167,
     "metadata": {},
     "output_type": "execute_result"
    }
   ],
   "source": [
    "find(\"Amir\", \"r\")"
   ]
  },
  {
   "cell_type": "markdown",
   "id": "bc00506c-c017-44e1-bf31-48eeb55fa8d1",
   "metadata": {
    "jp-MarkdownHeadingCollapsed": true
   },
   "source": [
    "# Travers your name"
   ]
  },
  {
   "cell_type": "code",
   "execution_count": 170,
   "id": "76b9a8e2-c494-4ddf-97c8-616a33698c1e",
   "metadata": {},
   "outputs": [
    {
     "name": "stdin",
     "output_type": "stream",
     "text": [
      "Enter your name : Amir\n"
     ]
    },
    {
     "name": "stdout",
     "output_type": "stream",
     "text": [
      "A\n",
      "m\n",
      "i\n",
      "r\n"
     ]
    }
   ],
   "source": [
    "s = input(\"Enter your name :\")\n",
    "for i in s:\n",
    "    print(i)"
   ]
  },
  {
   "cell_type": "markdown",
   "id": "9b9f8cf2-1d6f-41ef-8427-c678c10c54a9",
   "metadata": {
    "jp-MarkdownHeadingCollapsed": true
   },
   "source": [
    "# Find similar Char in Two Strings"
   ]
  },
  {
   "cell_type": "code",
   "execution_count": 187,
   "id": "55525b09-30dd-428a-8d7d-e8fa7d040ff1",
   "metadata": {},
   "outputs": [],
   "source": [
    "def Similar1(a, b):\n",
    "    result = \"Similar Chars is : \"\n",
    "    for i in a:\n",
    "        for j in b:\n",
    "            if i == j:\n",
    "                result += i\n",
    "                result += \", \"\n",
    "                break\n",
    "    return result"
   ]
  },
  {
   "cell_type": "code",
   "execution_count": 188,
   "id": "84cd96ba-b176-4473-a877-ed90ea9a1369",
   "metadata": {},
   "outputs": [
    {
     "data": {
      "text/plain": [
       "'Similar Chars is : m, '"
      ]
     },
     "execution_count": 188,
     "metadata": {},
     "output_type": "execute_result"
    }
   ],
   "source": [
    "Similar1(\"Amir\", \"mohammad\")"
   ]
  },
  {
   "cell_type": "code",
   "execution_count": 189,
   "id": "8ca724f7-b925-4236-a598-7ddb39a04f49",
   "metadata": {},
   "outputs": [],
   "source": [
    "def Similar2(a, b):\n",
    "    for i in a:\n",
    "        for j in b:\n",
    "            if i == j:\n",
    "                print(i)"
   ]
  },
  {
   "cell_type": "code",
   "execution_count": 190,
   "id": "f2c5befa-9544-4cfe-8625-ee7630433392",
   "metadata": {},
   "outputs": [
    {
     "name": "stdout",
     "output_type": "stream",
     "text": [
      "m\n",
      "m\n",
      "m\n"
     ]
    }
   ],
   "source": [
    "Similar2(\"Amir\", \"mohammad\")"
   ]
  },
  {
   "cell_type": "markdown",
   "id": "1f8e9cf5-9e34-4f92-80d0-103029ca3cd5",
   "metadata": {
    "jp-MarkdownHeadingCollapsed": true
   },
   "source": [
    "# Anonymous"
   ]
  },
  {
   "cell_type": "code",
   "execution_count": 205,
   "id": "1fff9f04-d09e-4135-904d-ee38cfd2de0b",
   "metadata": {},
   "outputs": [],
   "source": [
    "def Anonymous(x):\n",
    "    while (x != 1):\n",
    "        if (x % 2 == 0):\n",
    "            print(x)\n",
    "            x /= 2\n",
    "        else:\n",
    "            x = x * 3 + 1"
   ]
  },
  {
   "cell_type": "code",
   "execution_count": 207,
   "id": "9573c527-c1ab-49a3-90d8-37f22ba78449",
   "metadata": {},
   "outputs": [
    {
     "name": "stdout",
     "output_type": "stream",
     "text": [
      "6\n",
      "10.0\n",
      "16.0\n",
      "8.0\n",
      "4.0\n",
      "2.0\n"
     ]
    }
   ],
   "source": [
    "Anonymous(6)"
   ]
  },
  {
   "cell_type": "markdown",
   "id": "dfaa2326-97ae-4984-ba91-c2d080bd0cb7",
   "metadata": {
    "jp-MarkdownHeadingCollapsed": true
   },
   "source": [
    "# Seperator"
   ]
  },
  {
   "cell_type": "code",
   "execution_count": 211,
   "id": "fc39958e-ef8b-45da-9c7e-3a97a923ab68",
   "metadata": {},
   "outputs": [],
   "source": [
    "def Seperator(a):\n",
    "    u, l, d = \"\", \"\", \"\"\n",
    "    \n",
    "    for i in a:\n",
    "        if (i.isalpha()):\n",
    "            if (i.isupper()):\n",
    "                u += i\n",
    "            else:\n",
    "                l += i\n",
    "        else:\n",
    "            d += i\n",
    "    print(\"Uppers : \" + u + \", lowers : \" + l + \", Digits : \" + d)"
   ]
  },
  {
   "cell_type": "code",
   "execution_count": 212,
   "id": "f90010e3-9453-4315-9360-c61087caf534",
   "metadata": {},
   "outputs": [
    {
     "name": "stdout",
     "output_type": "stream",
     "text": [
      "Uppers : AXY, lowers : abca, Digits : 235\n"
     ]
    }
   ],
   "source": [
    "Seperator(\"abcaAXY235\")"
   ]
  },
  {
   "cell_type": "markdown",
   "id": "2690b921-7db8-4e14-96c3-d632aefbf419",
   "metadata": {
    "jp-MarkdownHeadingCollapsed": true
   },
   "source": [
    "# Reverse a String"
   ]
  },
  {
   "cell_type": "code",
   "execution_count": 218,
   "id": "9d912752-99de-4e47-9be7-767cadfe6069",
   "metadata": {},
   "outputs": [
    {
     "name": "stdin",
     "output_type": "stream",
     "text": [
      "Enter yor name : Amir\n"
     ]
    },
    {
     "name": "stdout",
     "output_type": "stream",
     "text": [
      "Reversed your name:  rimA\n"
     ]
    }
   ],
   "source": [
    "a = input(\"Enter yor name :\")\n",
    "\n",
    "s = len(a) - 1\n",
    "b = \"\"\n",
    "for i in range(len(a)):\n",
    "    b += a[i + s]\n",
    "    s -= 2\n",
    "print(\"Reversed your name: \",b)"
   ]
  },
  {
   "cell_type": "code",
   "execution_count": 219,
   "id": "cb59e5ac-8eab-47c5-9450-58c066a60901",
   "metadata": {},
   "outputs": [
    {
     "name": "stdout",
     "output_type": "stream",
     "text": [
      "nima\n"
     ]
    }
   ],
   "source": [
    "s = 'amin'\n",
    "b = \"\"\n",
    "for i in s:\n",
    "    b = i+b\n",
    "print(b)"
   ]
  },
  {
   "cell_type": "code",
   "execution_count": 220,
   "id": "0e604b2a-6b4f-4e30-8c51-1f0938817349",
   "metadata": {},
   "outputs": [
    {
     "data": {
      "text/plain": [
       "'nima'"
      ]
     },
     "execution_count": 220,
     "metadata": {},
     "output_type": "execute_result"
    }
   ],
   "source": [
    "s[::-1]"
   ]
  },
  {
   "cell_type": "markdown",
   "id": "1f49b8ac-5b97-4096-8656-5abdba587a5b",
   "metadata": {
    "jp-MarkdownHeadingCollapsed": true
   },
   "source": [
    "# Reverse a list"
   ]
  },
  {
   "cell_type": "code",
   "execution_count": 221,
   "id": "0167fff3-cdce-4d54-99a2-68bdb4eb9a5d",
   "metadata": {},
   "outputs": [],
   "source": [
    "d = [1, 2, 3, 4]"
   ]
  },
  {
   "cell_type": "code",
   "execution_count": 222,
   "id": "81f13cba-7df9-441f-ae80-23d70cc33cf9",
   "metadata": {},
   "outputs": [
    {
     "name": "stdout",
     "output_type": "stream",
     "text": [
      "[4, 3, 2, 1]\n"
     ]
    }
   ],
   "source": [
    "s = len(d) - 1\n",
    "b = []\n",
    "for i in range(len(d)):\n",
    "    b.append(d[i + s])\n",
    "    s -= 2\n",
    "print(b)"
   ]
  },
  {
   "cell_type": "code",
   "execution_count": 223,
   "id": "dda39a87-86cc-4efd-80cc-28a50844f4f8",
   "metadata": {},
   "outputs": [
    {
     "name": "stdout",
     "output_type": "stream",
     "text": [
      "[4, 3, 2, 1]\n"
     ]
    }
   ],
   "source": [
    "b = []\n",
    "f = len(d)-1\n",
    "while f>=0:\n",
    "    b.append(d[f])\n",
    "    f = f-1\n",
    "print(b)"
   ]
  },
  {
   "cell_type": "code",
   "execution_count": 224,
   "id": "34abb28a-6d35-4c55-a12f-4a26ba7dd073",
   "metadata": {},
   "outputs": [
    {
     "name": "stdout",
     "output_type": "stream",
     "text": [
      "[4, 3, 2, 1]\n"
     ]
    }
   ],
   "source": [
    "for i in range(len(d)-len(d)):\n",
    "    b.append(d[i])\n",
    "print(b)"
   ]
  },
  {
   "cell_type": "markdown",
   "id": "57467abf-5d68-4a8f-8356-087253950985",
   "metadata": {
    "jp-MarkdownHeadingCollapsed": true
   },
   "source": [
    "# Sort a list from up  to down"
   ]
  },
  {
   "cell_type": "code",
   "execution_count": 235,
   "id": "f9492b3e-d5a5-4772-9386-0b9edce03870",
   "metadata": {},
   "outputs": [],
   "source": [
    "t = [5, 2, 1, 3, 7]\n",
    "t1 = [5, 2, 1, 3, 7]"
   ]
  },
  {
   "cell_type": "code",
   "execution_count": 236,
   "id": "711baeb4-1951-46bb-a3e3-31f439070e52",
   "metadata": {},
   "outputs": [
    {
     "name": "stdout",
     "output_type": "stream",
     "text": [
      "[7, 5, 3, 2, 1]\n"
     ]
    }
   ],
   "source": [
    "def ro(a):\n",
    "    h = 0\n",
    "    for i in a:\n",
    "        if(i >= h):\n",
    "            h = i\n",
    "    a.remove(h)\n",
    "    #print(\"a\" +a)\n",
    "    return h\n",
    "# ------------------------------------\n",
    "r = \"\"\n",
    "res = []\n",
    "h = 0\n",
    "for i in t:\n",
    "    res.append(ro(t1))\n",
    "print(res)"
   ]
  },
  {
   "cell_type": "code",
   "execution_count": 228,
   "id": "23955c67-8f45-43d0-90f1-81b45389aa5b",
   "metadata": {},
   "outputs": [
    {
     "name": "stdout",
     "output_type": "stream",
     "text": [
      "[7, 5, 3, 2, 1]\n"
     ]
    }
   ],
   "source": [
    "for i in range(len(t)):\n",
    "    for j in range(i+1, len(t)):\n",
    "        if t[i]<=t[j]:\n",
    "            t[i],t[j]=t[j],t[i]\n",
    "print(t)"
   ]
  },
  {
   "cell_type": "markdown",
   "id": "bd556340-6c0d-43ef-9d40-aa370c515340",
   "metadata": {
    "jp-MarkdownHeadingCollapsed": true
   },
   "source": [
    "# Zip method"
   ]
  },
  {
   "cell_type": "code",
   "execution_count": 229,
   "id": "f866bb84-604f-4bc4-82dd-2d5c9b9447b9",
   "metadata": {},
   "outputs": [
    {
     "name": "stdout",
     "output_type": "stream",
     "text": [
      "Iam\n",
      "amin\n",
      "dehghan\n"
     ]
    }
   ],
   "source": [
    "n = [\"I\", \"am\", \"deh\"]\n",
    "m = [\"am\", \"in\", \"ghan\"]\n",
    "k = []\n",
    "for i in range(len(n)):\n",
    "    print(n[i] + m[i])"
   ]
  },
  {
   "cell_type": "code",
   "execution_count": 230,
   "id": "43c8f670-87e7-4242-b41f-7452c324c3d6",
   "metadata": {},
   "outputs": [
    {
     "name": "stdout",
     "output_type": "stream",
     "text": [
      "Iam\n",
      "amin\n",
      "dehghan\n"
     ]
    }
   ],
   "source": [
    "for i,j in zip(n,m):\n",
    "    print(i+j)"
   ]
  },
  {
   "cell_type": "code",
   "execution_count": 231,
   "id": "91e7b0c7-666e-41c2-a305-444cf65ba5ed",
   "metadata": {},
   "outputs": [],
   "source": [
    "l3 =[i+j for i,j in zip(n,m)]"
   ]
  },
  {
   "cell_type": "code",
   "execution_count": 232,
   "id": "8bcbc42f-aadc-461f-a2d0-5c8b40af7a2e",
   "metadata": {},
   "outputs": [
    {
     "data": {
      "text/plain": [
       "['Iam', 'amin', 'dehghan']"
      ]
     },
     "execution_count": 232,
     "metadata": {},
     "output_type": "execute_result"
    }
   ],
   "source": [
    "l3"
   ]
  },
  {
   "cell_type": "code",
   "execution_count": 233,
   "id": "db8e3355-67ad-43dc-98f2-be91abff2b3b",
   "metadata": {},
   "outputs": [
    {
     "name": "stdout",
     "output_type": "stream",
     "text": [
      "('I', 'am')\n",
      "('am', 'in')\n",
      "('deh', 'ghan')\n"
     ]
    }
   ],
   "source": [
    "for i in zip(n,m):\n",
    "    print(i)"
   ]
  },
  {
   "cell_type": "markdown",
   "id": "72c6bde7-e38d-4350-82c8-83279776ff06",
   "metadata": {},
   "source": [
    "# Bubble sort"
   ]
  },
  {
   "cell_type": "code",
   "execution_count": 239,
   "id": "328d9309-edc6-48df-9c0c-815cb9759ca7",
   "metadata": {},
   "outputs": [
    {
     "name": "stdout",
     "output_type": "stream",
     "text": [
      "[7, 5, 3, 1]\n"
     ]
    }
   ],
   "source": [
    "l = [3, 5, 7, 1]\n",
    "\n",
    "for i in range(len(l)):\n",
    "    for j in range(i+1, len(l)):\n",
    "        if l[i]<=l[j]:\n",
    "            l[i],l[j]=l[j],l[i]\n",
    "print(l)"
   ]
  },
  {
   "cell_type": "code",
   "execution_count": null,
   "id": "c6d846d5-e86d-4081-9fe0-2b10f9a7fd0c",
   "metadata": {},
   "outputs": [],
   "source": []
  }
 ],
 "metadata": {
  "kernelspec": {
   "display_name": "Python 3 (ipykernel)",
   "language": "python",
   "name": "python3"
  },
  "language_info": {
   "codemirror_mode": {
    "name": "ipython",
    "version": 3
   },
   "file_extension": ".py",
   "mimetype": "text/x-python",
   "name": "python",
   "nbconvert_exporter": "python",
   "pygments_lexer": "ipython3",
   "version": "3.12.2"
  }
 },
 "nbformat": 4,
 "nbformat_minor": 5
}
